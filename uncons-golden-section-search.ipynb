{
 "cells": [
  {
   "cell_type": "markdown",
   "metadata": {},
   "source": [
    "---\n",
    "format:\n",
    "  html:\n",
    "    code-line-numbers: true\n",
    "    code-overflow: wrap\n",
    "    code-block-bg: true\n",
    "    code-block-border-left: true\n",
    "    highlight-style: Arrow\n",
    "---"
   ]
  },
  {
   "cell_type": "markdown",
   "metadata": {},
   "source": [
    "# Golden Section Search"
   ]
  }
 ],
 "metadata": {
  "kernelspec": {
   "display_name": "nonlinear",
   "language": "python",
   "name": "python3"
  },
  "language_info": {
   "name": "python",
   "version": "3.10.12"
  },
  "orig_nbformat": 4
 },
 "nbformat": 4,
 "nbformat_minor": 2
}
